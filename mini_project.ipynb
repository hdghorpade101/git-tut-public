{
 "cells": [
  {
   "cell_type": "code",
   "execution_count": null,
   "id": "d79aeaa5-8491-4cb6-a132-b67de9348016",
   "metadata": {},
   "outputs": [
    {
     "name": "stdout",
     "output_type": "stream",
     "text": [
      "Enter the number of players (1-4):  2\n"
     ]
    },
    {
     "name": "stdout",
     "output_type": "stream",
     "text": [
      "Welcome to Snake and Ladder!\n",
      "Ladders and Snakes have been placed randomly on the board.\n",
      "Good luck!\n",
      "\n",
      "\n",
      "Player 1's turn:\n"
     ]
    },
    {
     "name": "stdout",
     "output_type": "stream",
     "text": [
      "Player 1, press Enter to roll the dice... \n"
     ]
    },
    {
     "name": "stdout",
     "output_type": "stream",
     "text": [
      "Player 1 rolled a 2!\n",
      "Player 1 moved to 2.\n",
      "\n",
      "Player 2's turn:\n"
     ]
    },
    {
     "name": "stdout",
     "output_type": "stream",
     "text": [
      "Player 2, press Enter to roll the dice... \n"
     ]
    },
    {
     "name": "stdout",
     "output_type": "stream",
     "text": [
      "Player 2 rolled a 3!\n",
      "Player 2 moved to 3.\n",
      "\n",
      "Player 1's turn:\n"
     ]
    },
    {
     "name": "stdout",
     "output_type": "stream",
     "text": [
      "Player 1, press Enter to roll the dice... \n"
     ]
    },
    {
     "name": "stdout",
     "output_type": "stream",
     "text": [
      "Player 1 rolled a 1!\n",
      "Player 1 moved to 3.\n",
      "\n",
      "Player 2's turn:\n"
     ]
    },
    {
     "name": "stdout",
     "output_type": "stream",
     "text": [
      "Player 2, press Enter to roll the dice... \n"
     ]
    },
    {
     "name": "stdout",
     "output_type": "stream",
     "text": [
      "Player 2 rolled a 3!\n",
      "Player 2 moved to 6.\n",
      "\n",
      "Player 1's turn:\n"
     ]
    },
    {
     "name": "stdout",
     "output_type": "stream",
     "text": [
      "Player 1, press Enter to roll the dice... \n"
     ]
    },
    {
     "name": "stdout",
     "output_type": "stream",
     "text": [
      "Player 1 rolled a 1!\n",
      "Player 1 moved to 4.\n",
      "\n",
      "Player 2's turn:\n"
     ]
    },
    {
     "name": "stdout",
     "output_type": "stream",
     "text": [
      "Player 2, press Enter to roll the dice... \n"
     ]
    },
    {
     "name": "stdout",
     "output_type": "stream",
     "text": [
      "Player 2 rolled a 4!\n",
      "Player 2 moved to 10.\n",
      "\n",
      "Player 1's turn:\n"
     ]
    },
    {
     "name": "stdout",
     "output_type": "stream",
     "text": [
      "Player 1, press Enter to roll the dice... \n"
     ]
    },
    {
     "name": "stdout",
     "output_type": "stream",
     "text": [
      "Player 1 rolled a 2!\n",
      "Player 1 moved to 6.\n",
      "\n",
      "Player 2's turn:\n"
     ]
    },
    {
     "name": "stdout",
     "output_type": "stream",
     "text": [
      "Player 2, press Enter to roll the dice... \n"
     ]
    },
    {
     "name": "stdout",
     "output_type": "stream",
     "text": [
      "Player 2 rolled a 2!\n",
      "Player 2 moved to 12.\n",
      "\n",
      "Player 1's turn:\n"
     ]
    },
    {
     "name": "stdout",
     "output_type": "stream",
     "text": [
      "Player 1, press Enter to roll the dice... \n"
     ]
    },
    {
     "name": "stdout",
     "output_type": "stream",
     "text": [
      "Player 1 rolled a 2!\n",
      "Player 1 moved to 8.\n",
      "\n",
      "Player 2's turn:\n"
     ]
    },
    {
     "name": "stdout",
     "output_type": "stream",
     "text": [
      "Player 2, press Enter to roll the dice... \n"
     ]
    },
    {
     "name": "stdout",
     "output_type": "stream",
     "text": [
      "Player 2 rolled a 2!\n",
      "Player 2 moved to 14.\n",
      "Player 2 climbed a ladder from 14 to 61!\n",
      "\n",
      "Player 1's turn:\n"
     ]
    },
    {
     "name": "stdout",
     "output_type": "stream",
     "text": [
      "Player 1, press Enter to roll the dice... \n"
     ]
    },
    {
     "name": "stdout",
     "output_type": "stream",
     "text": [
      "Player 1 rolled a 4!\n",
      "Player 1 moved to 12.\n",
      "\n",
      "Player 2's turn:\n"
     ]
    },
    {
     "name": "stdout",
     "output_type": "stream",
     "text": [
      "Player 2, press Enter to roll the dice... \n"
     ]
    },
    {
     "name": "stdout",
     "output_type": "stream",
     "text": [
      "Player 2 rolled a 1!\n",
      "Player 2 moved to 62.\n",
      "\n",
      "Player 1's turn:\n"
     ]
    },
    {
     "name": "stdout",
     "output_type": "stream",
     "text": [
      "Player 1, press Enter to roll the dice... \n"
     ]
    },
    {
     "name": "stdout",
     "output_type": "stream",
     "text": [
      "Player 1 rolled a 5!\n",
      "Player 1 moved to 17.\n",
      "\n",
      "Player 2's turn:\n"
     ]
    },
    {
     "name": "stdout",
     "output_type": "stream",
     "text": [
      "Player 2, press Enter to roll the dice... \n"
     ]
    },
    {
     "name": "stdout",
     "output_type": "stream",
     "text": [
      "Player 2 rolled a 1!\n",
      "Player 2 moved to 63.\n",
      "\n",
      "Player 1's turn:\n"
     ]
    },
    {
     "name": "stdout",
     "output_type": "stream",
     "text": [
      "Player 1, press Enter to roll the dice... \n"
     ]
    },
    {
     "name": "stdout",
     "output_type": "stream",
     "text": [
      "Player 1 rolled a 2!\n",
      "Player 1 moved to 19.\n",
      "\n",
      "Player 2's turn:\n"
     ]
    },
    {
     "name": "stdout",
     "output_type": "stream",
     "text": [
      "Player 2, press Enter to roll the dice... \n"
     ]
    },
    {
     "name": "stdout",
     "output_type": "stream",
     "text": [
      "Player 2 rolled a 3!\n",
      "Player 2 moved to 66.\n",
      "\n",
      "Player 1's turn:\n"
     ]
    },
    {
     "name": "stdout",
     "output_type": "stream",
     "text": [
      "Player 1, press Enter to roll the dice... \n"
     ]
    },
    {
     "name": "stdout",
     "output_type": "stream",
     "text": [
      "Player 1 rolled a 6!\n",
      "Player 1 moved to 25.\n",
      "\n",
      "Player 2's turn:\n"
     ]
    },
    {
     "name": "stdout",
     "output_type": "stream",
     "text": [
      "Player 2, press Enter to roll the dice... \n"
     ]
    },
    {
     "name": "stdout",
     "output_type": "stream",
     "text": [
      "Player 2 rolled a 3!\n",
      "Player 2 moved to 69.\n",
      "\n",
      "Player 1's turn:\n"
     ]
    },
    {
     "name": "stdout",
     "output_type": "stream",
     "text": [
      "Player 1, press Enter to roll the dice... \n"
     ]
    },
    {
     "name": "stdout",
     "output_type": "stream",
     "text": [
      "Player 1 rolled a 1!\n",
      "Player 1 moved to 26.\n",
      "Player 1 got bitten by a snake and fell from 26 to 1!\n",
      "\n",
      "Player 2's turn:\n"
     ]
    },
    {
     "name": "stdout",
     "output_type": "stream",
     "text": [
      "Player 2, press Enter to roll the dice... \n"
     ]
    },
    {
     "name": "stdout",
     "output_type": "stream",
     "text": [
      "Player 2 rolled a 1!\n",
      "Player 2 moved to 70.\n",
      "\n",
      "Player 1's turn:\n"
     ]
    },
    {
     "name": "stdout",
     "output_type": "stream",
     "text": [
      "Player 1, press Enter to roll the dice... \n"
     ]
    },
    {
     "name": "stdout",
     "output_type": "stream",
     "text": [
      "Player 1 rolled a 6!\n",
      "Player 1 moved to 7.\n",
      "\n",
      "Player 2's turn:\n"
     ]
    },
    {
     "name": "stdout",
     "output_type": "stream",
     "text": [
      "Player 2, press Enter to roll the dice... \n"
     ]
    },
    {
     "name": "stdout",
     "output_type": "stream",
     "text": [
      "Player 2 rolled a 3!\n",
      "Player 2 moved to 73.\n",
      "\n",
      "Player 1's turn:\n"
     ]
    },
    {
     "name": "stdout",
     "output_type": "stream",
     "text": [
      "Player 1, press Enter to roll the dice... \n"
     ]
    },
    {
     "name": "stdout",
     "output_type": "stream",
     "text": [
      "Player 1 rolled a 3!\n",
      "Player 1 moved to 10.\n",
      "\n",
      "Player 2's turn:\n"
     ]
    },
    {
     "name": "stdout",
     "output_type": "stream",
     "text": [
      "Player 2, press Enter to roll the dice... \n"
     ]
    },
    {
     "name": "stdout",
     "output_type": "stream",
     "text": [
      "Player 2 rolled a 1!\n",
      "Player 2 moved to 74.\n",
      "\n",
      "Player 1's turn:\n"
     ]
    },
    {
     "name": "stdout",
     "output_type": "stream",
     "text": [
      "Player 1, press Enter to roll the dice... \n"
     ]
    },
    {
     "name": "stdout",
     "output_type": "stream",
     "text": [
      "Player 1 rolled a 4!\n",
      "Player 1 moved to 14.\n",
      "Player 1 climbed a ladder from 14 to 61!\n",
      "\n",
      "Player 2's turn:\n"
     ]
    },
    {
     "name": "stdout",
     "output_type": "stream",
     "text": [
      "Player 2, press Enter to roll the dice... \n"
     ]
    },
    {
     "name": "stdout",
     "output_type": "stream",
     "text": [
      "Player 2 rolled a 5!\n",
      "Player 2 moved to 79.\n",
      "\n",
      "Player 1's turn:\n"
     ]
    },
    {
     "name": "stdout",
     "output_type": "stream",
     "text": [
      "Player 1, press Enter to roll the dice... \n"
     ]
    },
    {
     "name": "stdout",
     "output_type": "stream",
     "text": [
      "Player 1 rolled a 2!\n",
      "Player 1 moved to 63.\n",
      "\n",
      "Player 2's turn:\n"
     ]
    },
    {
     "name": "stdout",
     "output_type": "stream",
     "text": [
      "Player 2, press Enter to roll the dice... \n"
     ]
    },
    {
     "name": "stdout",
     "output_type": "stream",
     "text": [
      "Player 2 rolled a 6!\n",
      "Player 2 moved to 85.\n",
      "\n",
      "Player 1's turn:\n"
     ]
    },
    {
     "name": "stdout",
     "output_type": "stream",
     "text": [
      "Player 1, press Enter to roll the dice... \n"
     ]
    },
    {
     "name": "stdout",
     "output_type": "stream",
     "text": [
      "Player 1 rolled a 1!\n",
      "Player 1 moved to 64.\n",
      "\n",
      "Player 2's turn:\n"
     ]
    },
    {
     "name": "stdout",
     "output_type": "stream",
     "text": [
      "Player 2, press Enter to roll the dice... \n"
     ]
    },
    {
     "name": "stdout",
     "output_type": "stream",
     "text": [
      "Player 2 rolled a 4!\n",
      "Player 2 moved to 89.\n",
      "\n",
      "Player 1's turn:\n"
     ]
    },
    {
     "name": "stdout",
     "output_type": "stream",
     "text": [
      "Player 1, press Enter to roll the dice... \n"
     ]
    },
    {
     "name": "stdout",
     "output_type": "stream",
     "text": [
      "Player 1 rolled a 2!\n",
      "Player 1 moved to 66.\n",
      "\n",
      "Player 2's turn:\n"
     ]
    },
    {
     "name": "stdout",
     "output_type": "stream",
     "text": [
      "Player 2, press Enter to roll the dice... \n"
     ]
    },
    {
     "name": "stdout",
     "output_type": "stream",
     "text": [
      "Player 2 rolled a 2!\n",
      "Player 2 moved to 91.\n",
      "\n",
      "Player 1's turn:\n"
     ]
    },
    {
     "name": "stdout",
     "output_type": "stream",
     "text": [
      "Player 1, press Enter to roll the dice... \n"
     ]
    },
    {
     "name": "stdout",
     "output_type": "stream",
     "text": [
      "Player 1 rolled a 3!\n",
      "Player 1 moved to 69.\n",
      "\n",
      "Player 2's turn:\n"
     ]
    },
    {
     "name": "stdout",
     "output_type": "stream",
     "text": [
      "Player 2, press Enter to roll the dice... \n"
     ]
    },
    {
     "name": "stdout",
     "output_type": "stream",
     "text": [
      "Player 2 rolled a 2!\n",
      "Player 2 moved to 93.\n",
      "\n",
      "Player 1's turn:\n"
     ]
    },
    {
     "name": "stdout",
     "output_type": "stream",
     "text": [
      "Player 1, press Enter to roll the dice... \n"
     ]
    },
    {
     "name": "stdout",
     "output_type": "stream",
     "text": [
      "Player 1 rolled a 4!\n",
      "Player 1 moved to 73.\n",
      "\n",
      "Player 2's turn:\n"
     ]
    },
    {
     "name": "stdout",
     "output_type": "stream",
     "text": [
      "Player 2, press Enter to roll the dice... \n"
     ]
    },
    {
     "name": "stdout",
     "output_type": "stream",
     "text": [
      "Player 2 rolled a 5!\n",
      "Player 2 moved to 98.\n",
      "\n",
      "Player 1's turn:\n"
     ]
    },
    {
     "name": "stdout",
     "output_type": "stream",
     "text": [
      "Player 1, press Enter to roll the dice... \n"
     ]
    },
    {
     "name": "stdout",
     "output_type": "stream",
     "text": [
      "Player 1 rolled a 3!\n",
      "Player 1 moved to 76.\n",
      "\n",
      "Player 2's turn:\n"
     ]
    },
    {
     "name": "stdout",
     "output_type": "stream",
     "text": [
      "Player 2, press Enter to roll the dice... \n"
     ]
    },
    {
     "name": "stdout",
     "output_type": "stream",
     "text": [
      "Player 2 rolled a 2!\n",
      "Player 2 moved to 100.\n",
      "Player 2 has won the game!\n",
      "\n",
      "Game over! Player 2 is the winner!\n"
     ]
    }
   ],
   "source": [
    "import random\n",
    "import time\n",
    "\n",
    "def roll_die(player):\n",
    "    \"\"\"Simulate a dice roll after the player confirms.\"\"\"\n",
    "    input(f\"{player}, press Enter to roll the dice...\")\n",
    "    roll = random.randint(1, 6)\n",
    "    print(f\"{player} rolled a {roll}!\")\n",
    "    return roll\n",
    "\n",
    "def create_ladders():\n",
    "    \"\"\"Randomly place ladders on the board.\"\"\"\n",
    "    ladders = []\n",
    "    for _ in range(5):  # Place 5 ladders\n",
    "        start = random.randint(1, 80)\n",
    "        end = random.randint(start + 1, 100)\n",
    "        ladders.append({\"start\": start, \"end\": end})\n",
    "    return ladders\n",
    "\n",
    "def create_snakes():\n",
    "    \"\"\"Randomly place snakes on the board.\"\"\"\n",
    "    snakes = []\n",
    "    for _ in range(5):  # Place 5 snakes\n",
    "        start = random.randint(20, 100)\n",
    "        end = random.randint(1, start - 1)\n",
    "        snakes.append({\"start\": start, \"end\": end})\n",
    "    return snakes\n",
    "\n",
    "def check_ladder(position, ladders):\n",
    "    \"\"\"Check if the player landed on a ladder.\"\"\"\n",
    "    for ladder in ladders:\n",
    "        if ladder[\"start\"] == position: \n",
    "            return ladder\n",
    "    return None\n",
    "\n",
    "def check_snake(position, snakes):\n",
    "    \"\"\"Check if the player landed on a snake.\"\"\"\n",
    "    for snake in snakes:\n",
    "        if snake[\"start\"] == position:\n",
    "            return snake\n",
    "    return None\n",
    "\n",
    "def move_player(player, position, ladders, snakes):\n",
    "    \"\"\"Move the player based on the dice roll.\"\"\"\n",
    "    roll = roll_die(player)\n",
    "    new_position = position + roll\n",
    "\n",
    "    if new_position > 100:\n",
    "        print(f\"{player} cannot move beyond 100. Try again next turn!\")\n",
    "        return position\n",
    "\n",
    "    print(f\"{player} moved to {new_position}.\")\n",
    "\n",
    "    # Check for ladder\n",
    "    ladder = check_ladder(new_position, ladders)\n",
    "    if ladder:\n",
    "        print(f\"{player} climbed a ladder from {ladder['start']} to {ladder['end']}!\")\n",
    "        new_position = ladder[\"end\"]\n",
    "\n",
    "    # Check for snake\n",
    "    snake = check_snake(new_position, snakes)\n",
    "    if snake:\n",
    "        print(f\"{player} got bitten by a snake and fell from {snake['start']} to {snake['end']}!\")\n",
    "        new_position = snake[\"end\"]\n",
    "\n",
    "    return new_position\n",
    "\n",
    "def play_game(num_players):\n",
    "    \"\"\"Start the Snake and Ladder game.\"\"\"\n",
    "    players = {f\"Player {i+1}\": 0 for i in range(num_players)}\n",
    "    ladders = create_ladders()\n",
    "    snakes = create_snakes()\n",
    "    winner = None\n",
    "\n",
    "    print(\"Welcome to Snake and Ladder!\")\n",
    "    print(\"Ladders and Snakes have been placed randomly on the board.\")\n",
    "    print(\"Good luck!\\n\")\n",
    "\n",
    "    while not winner:\n",
    "        for player in players:\n",
    "            if winner:\n",
    "                break\n",
    "            print(f\"\\n{player}'s turn:\")\n",
    "            players[player] = move_player(player, players[player], ladders, snakes)\n",
    "            if players[player] == 100:\n",
    "                winner = player\n",
    "                print(f\"{player} has won the game!\")\n",
    "            time.sleep(1)  # Add a small delay for better readability\n",
    "\n",
    "    print(f\"\\nGame over! {winner} is the winner!\")\n",
    "\n",
    "# Main program\n",
    "if __name__ == \"__main__\":\n",
    "    num_players = int(input(\"Enter the number of players (1-4): \"))\n",
    "    if num_players < 1 or num_players > 4:\n",
    "        print(\"Invalid number of players. Please choose between 1 and 4.\")\n",
    "    else:\n",
    "        play_game(num_players)"
   ]
  },
  {
   "cell_type": "code",
   "execution_count": null,
   "id": "726c47b6-3392-47ec-8068-4b1c3725bbef",
   "metadata": {},
   "outputs": [],
   "source": []
  }
 ],
 "metadata": {
  "kernelspec": {
   "display_name": "Python 3 (ipykernel)",
   "language": "python",
   "name": "python3"
  },
  "language_info": {
   "codemirror_mode": {
    "name": "ipython",
    "version": 3
   },
   "file_extension": ".py",
   "mimetype": "text/x-python",
   "name": "python",
   "nbconvert_exporter": "python",
   "pygments_lexer": "ipython3",
   "version": "3.12.4"
  }
 },
 "nbformat": 4,
 "nbformat_minor": 5
}
